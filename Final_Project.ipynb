{
 "cells": [
  {
   "cell_type": "code",
   "execution_count": 1,
   "id": "fe928fcd-a06e-41ae-b079-3d64177e7e7f",
   "metadata": {},
   "outputs": [],
   "source": [
    "import pandas as pd\n",
    "\n",
    "df = pd.read_csv(\"amazon_reviews_us_Camera_v1_00.tsv\", delimiter=\"\\t\", on_bad_lines=\"skip\")\n"
   ]
  },
  {
   "cell_type": "code",
   "execution_count": 2,
   "id": "f369f3ed-7822-4a32-a777-28948ae72008",
   "metadata": {},
   "outputs": [
    {
     "name": "stdout",
     "output_type": "stream",
     "text": [
      "  marketplace  customer_id       review_id  product_id  product_parent  \\\n",
      "0          US      2975964  R1NBG94582SJE2  B00I01JQJM       860486164   \n",
      "1          US     23526356  R273DCA6Y0H9V7  B00TCO0ZAA       292641483   \n",
      "2          US     52764145   RQVOXO7WUOFK6  B00B7733E0        75825744   \n",
      "3          US     47348933  R1KWKSF21PO6HO  B006ZN4U34       789352955   \n",
      "4          US     33680700  R38H3UO1J190GI  B00HUEBGMU        19067902   \n",
      "\n",
      "                                       product_title product_category  \\\n",
      "0  GoPro Rechargeable Battery 2.0 (HERO3/HERO3+ o...           Camera   \n",
      "1  Professional 58mm Center Pinch Lens Cap for CA...           Camera   \n",
      "2  Spy Tec Z12 Motion Activated Intelligent Secur...           Camera   \n",
      "3  Celestron UpClose G2 10x25 Monocular, Black (7...           Camera   \n",
      "4  Vidpro XM-L Wired Lavalier microphone - 20' Au...           Camera   \n",
      "\n",
      "   star_rating  helpful_votes  total_votes vine verified_purchase  \\\n",
      "0            5              0            0    N                 Y   \n",
      "1            5              0            0    N                 Y   \n",
      "2            2              1            1    N                 Y   \n",
      "3            5              0            0    N                 Y   \n",
      "4            5              1            1    N                 Y   \n",
      "\n",
      "                                review_headline  \\\n",
      "0                                    Five Stars   \n",
      "1                                    Love it!!!   \n",
      "2                    Another Motion Detect Fail   \n",
      "3           Exactly what I wanted and expected.   \n",
      "4  Good mic at a Good Price...Not Canon Though.   \n",
      "\n",
      "                                         review_body review_date  \n",
      "0                                                 ok  2015-08-31  \n",
      "1          Perfect, even sturdier than the original!  2015-08-31  \n",
      "2  If the words, &#34;Cheap Chinese Junk&#34; com...  2015-08-31  \n",
      "3  Exactly what I wanted and expected. Perfect fo...  2015-08-31  \n",
      "4  I will look past the fact that they tricked me...  2015-08-31  \n"
     ]
    }
   ],
   "source": [
    "print(df.head())"
   ]
  },
  {
   "cell_type": "code",
   "execution_count": 3,
   "id": "197903b2-1a49-4462-9939-52eb8e0eac77",
   "metadata": {},
   "outputs": [
    {
     "data": {
      "text/plain": [
       "product_category\n",
       "Camera    1800845\n",
       "Name: count, dtype: int64"
      ]
     },
     "execution_count": 3,
     "metadata": {},
     "output_type": "execute_result"
    }
   ],
   "source": [
    "df[\"product_category\"].value_counts()"
   ]
  },
  {
   "cell_type": "code",
   "execution_count": 4,
   "id": "03a83128-2c7c-419a-9911-79bb3196f10c",
   "metadata": {},
   "outputs": [
    {
     "name": "stdout",
     "output_type": "stream",
     "text": [
      "Sample file saved as 'sample_reviews.tsv'\n"
     ]
    }
   ],
   "source": [
    "# Read 10k rows\n",
    "n_rows = 10000\n",
    "df_sample = pd.read_csv(\"amazon_reviews_us_Camera_v1_00.tsv\", delimiter=\"\\t\", nrows=n_rows)\n",
    "\n",
    "# Save as a smaller TSV file\n",
    "df_sample.to_csv(\"sample_reviews.tsv\", sep=\"\\t\", index=False)\n",
    "\n",
    "print(\"Sample file saved as 'sample_reviews.tsv'\")"
   ]
  },
  {
   "cell_type": "code",
   "execution_count": null,
   "id": "a297ae42-16db-4a67-be5d-c2b0595ad774",
   "metadata": {},
   "outputs": [],
   "source": []
  }
 ],
 "metadata": {
  "kernelspec": {
   "display_name": "Python 3 (ipykernel)",
   "language": "python",
   "name": "python3"
  },
  "language_info": {
   "codemirror_mode": {
    "name": "ipython",
    "version": 3
   },
   "file_extension": ".py",
   "mimetype": "text/x-python",
   "name": "python",
   "nbconvert_exporter": "python",
   "pygments_lexer": "ipython3",
   "version": "3.12.7"
  }
 },
 "nbformat": 4,
 "nbformat_minor": 5
}
